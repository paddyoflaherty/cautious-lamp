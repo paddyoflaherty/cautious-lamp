{
 "cells": [
  {
   "cell_type": "code",
   "execution_count": null,
   "id": "bc3c1e5d-d247-4816-bf96-f0e14e55c395",
   "metadata": {},
   "outputs": [],
   "source": [
    "# This is a test\n",
    "# This is another change\n",
    "# Once more with feeling"
   ]
  }
 ],
 "metadata": {
  "kernelspec": {
   "display_name": "Python 3 (ipykernel)",
   "language": "python",
   "name": "python3"
  },
  "language_info": {
   "codemirror_mode": {
    "name": "ipython",
    "version": 3
   },
   "file_extension": ".py",
   "mimetype": "text/x-python",
   "name": "python",
   "nbconvert_exporter": "python",
   "pygments_lexer": "ipython3",
   "version": "3.10.11"
  }
 },
 "nbformat": 4,
 "nbformat_minor": 5
}
