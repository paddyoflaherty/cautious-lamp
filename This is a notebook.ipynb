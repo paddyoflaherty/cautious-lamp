{
 "cells": [
  {
   "cell_type": "code",
   "execution_count": 1,
   "id": "bc3c1e5d-d247-4816-bf96-f0e14e55c395",
   "metadata": {},
   "outputs": [],
   "source": [
    "# This is a test\n",
    "# This is another change\n",
    "# Once more with feeling\n",
    "\n",
    "# lets make another change"
   ]
  },
  {
   "cell_type": "code",
   "execution_count": null,
   "id": "5ef3782b-310d-44f2-a2ee-4ea63fc85175",
   "metadata": {},
   "outputs": [],
   "source": [
    "# Another cell"
   ]
  }
 ],
 "metadata": {
  "kernelspec": {
   "display_name": "BQuant Python 3",
   "language": "python",
   "name": "user-python"
  },
  "language_info": {
   "codemirror_mode": {
    "name": "ipython",
    "version": 3
   },
   "file_extension": ".py",
   "mimetype": "text/x-python",
   "name": "python",
   "nbconvert_exporter": "python",
   "pygments_lexer": "ipython3",
   "version": "3.9.12"
  }
 },
 "nbformat": 4,
 "nbformat_minor": 5
}
